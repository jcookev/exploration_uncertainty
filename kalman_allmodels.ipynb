{
 "cells": [
  {
   "cell_type": "code",
   "execution_count": 1,
   "metadata": {},
   "outputs": [],
   "source": [
    "import math\n",
    "import random\n",
    "import numpy as np\n",
    "import matplotlib.pyplot as plt\n",
    "from scipy.stats import norm"
   ]
  },
  {
   "cell_type": "code",
   "execution_count": 127,
   "metadata": {},
   "outputs": [],
   "source": [
    "def step(action):\n",
    "    # Pull arm and get reward from its gaussian distribution\n",
    "    return np.random.normal(arm_mean[action], arm_dev[action])\n",
    "\n",
    "def update_Q(action, reward, learning_rate):\n",
    "    # Update Q action-value given (action, reward)\n",
    "    global alpha\n",
    "\n",
    "    if learning_rate == 'rescorla_wagner':\n",
    "        n[action] += 1\n",
    "        Q[action] += alpha * (reward - Q[action])\n",
    "        \n",
    "    if learning_rate == 'kalman':\n",
    "        alpha = sigma_sq[action] / (sigma_sq[action] + tau_sq[action])\n",
    "        sigma_sq[action] -= alpha * sigma_sq[action]\n",
    "        n[action] += 1\n",
    "        Q[action] += alpha * (reward - Q[action])\n",
    "\n",
    "def categorical_draw(probs):\n",
    "    z = random.random()\n",
    "    cum_prob = 0.0\n",
    "    \n",
    "    for i in range(len(probs)):\n",
    "        prob = probs[i]\n",
    "        cum_prob += prob\n",
    "        \n",
    "        if cum_prob > z:\n",
    "            return i\n",
    "    return len(probs) - 1\n",
    "\n",
    "def get_action(mode):\n",
    "    if mode == 'e_greedy':\n",
    "        # Epsilon-greedy policy\n",
    "        if np.random.random() < eps: # explore\n",
    "            return np.random.randint(len(arm_mean))\n",
    "        else: # exploit\n",
    "            return np.random.choice(np.flatnonzero(Q == Q.max()))\n",
    "    \n",
    "    if mode == 'softmax':\n",
    "        # Softmax policy\n",
    "        z = sum([math.exp(q * beta) for q in Q])\n",
    "        probs = [math.exp(q * beta) / z for q in Q]\n",
    "        \n",
    "        # Use categorical_draw to pick arm\n",
    "        return categorical_draw(probs)\n",
    "    \n",
    "    if mode == 'hybrid':\n",
    "        # Hybrid policy\n",
    "        Vt = Q[0] - Q[1]\n",
    "        RUt = np.sqrt(sigma_sq[0]) - np.sqrt(sigma_sq[1])\n",
    "        TUt = np.sqrt(sigma_sq[0] + sigma_sq[1])\n",
    "        prob1 = norm.cdf(hybrid_w[0]*Vt + hybrid_w[1]*RUt + hybrid_w[2]*(Vt/TUt), loc=0, scale=1)\n",
    "        prob2 = 1 - prob1\n",
    "        probs = [prob1, prob2]\n",
    "\n",
    "        # Use categorical_draw to pick arm\n",
    "        return categorical_draw(probs)"
   ]
  },
  {
   "cell_type": "code",
   "execution_count": 178,
   "metadata": {},
   "outputs": [],
   "source": [
    "# Settings\n",
    "prng = np.random.RandomState(123456789)\n",
    "# arm_mean = [-1, 1] # mean for reward function of each arm\n",
    "# arm_dev = np.ones(10)\n",
    "# tau_sq = np.ones(10)\n",
    "arm_dev = [4.0, 0] # standard deviation for reward function of each arm\n",
    "tau_sq = [16, 0.00001] # variance of the risky and safe arms (note: safe arm has non-zero var. to avoid numerical issues)\n",
    "N_experiments = 1000 # number of experiments to perform\n",
    "N_steps = 500 # number of steps (episodes)\n",
    "eps = 0.0 # probability of random exploration (fraction)\n",
    "beta = 1.0 # hyperparameter that determines how much randomisation in arm selection for softmax policy\n",
    "mode = 'hybrid' # 'e_greedy' / 'softmax' / 'hybrid'\n",
    "learning_rate = 'kalman' # kalman / rescorla-wagner\n",
    "# alpha = 1\n",
    "hybrid_w = [1.15, 0.3, 0.6] # weights for the regressors of the hybrid model\n",
    "\n",
    "R = np.zeros((N_steps,))  # reward history sum\n",
    "A_tot = []\n",
    "A_max_tot = np.zeros(N_steps) # array with number of times optimal arm has been chosen across all experiments\n",
    "for i in range(N_experiments):\n",
    "    A = np.zeros((N_steps, len(arm_dev)))  # action history sum\n",
    "    arm_mean = prng.normal(0, 10, 2)\n",
    "    actions, rewards = [], []\n",
    "    n = np.zeros(len(arm_mean), dtype=np.int) # action counts n(a)\n",
    "    Q = np.zeros(len(arm_mean), dtype=np.float) # value Q(a)\n",
    "    sigma_sq = tau_sq\n",
    "    for episode in range(N_steps):\n",
    "        action = get_action(mode) # sample policy\n",
    "        reward = step(action) # take step + get reward\n",
    "        update_Q(action, reward, learning_rate) # update Q\n",
    "        actions.append(action)\n",
    "        rewards.append(reward)\n",
    "    R += rewards\n",
    "    for j, a in enumerate(actions):\n",
    "        A[j][a] += 1\n",
    "    A_tot.append(A)\n",
    "    max_arm = np.where(arm_mean == np.max(arm_mean))\n",
    "    A_max = A[:,max_arm[0]].T[0]\n",
    "    A_max_tot = np.add(A_max_tot, A_max)"
   ]
  },
  {
   "cell_type": "code",
   "execution_count": 179,
   "metadata": {},
   "outputs": [],
   "source": [
    "A_max_tot_multiple = [] # array for multiple beta\n",
    "A_max_tot_multiple.append(A_max_tot)\n",
    "\n",
    "R_tot = []\n",
    "R_tot.append(R)"
   ]
  },
  {
   "cell_type": "code",
   "execution_count": 180,
   "metadata": {},
   "outputs": [
    {
     "name": "stdout",
     "output_type": "stream",
     "text": [
      "Total reward for hybrid : 2241.9526616498424\n"
     ]
    },
    {
     "data": {
      "image/png": "[encoded data removed]",
      "text/plain": [
       "<Figure size 432x288 with 1 Axes>"
      ]
     },
     "metadata": {
      "needs_background": "light"
     },
     "output_type": "display_data"
    }
   ],
   "source": [
    "# Plot reward results\n",
    "legend = ['hybrid', 'Thompson', 'UCB', 'softmax', 's2']\n",
    "for i, j in enumerate(R_tot):\n",
    "    data = j / N_experiments\n",
    "    print('Total reward for', legend[i], ':', sum(data))\n",
    "    plt.plot(data, label=legend[i])\n",
    "plt.xlabel(\"Step\")\n",
    "plt.ylabel(\"Average Reward\")\n",
    "plt.grid()\n",
    "plt.xlim([1, N_steps])\n",
    "plt.legend()\n",
    "plt.show()"
   ]
  },
  {
   "cell_type": "code",
   "execution_count": 181,
   "metadata": {},
   "outputs": [
    {
     "data": {
      "image/png": "[encoded data removed]",
      "text/plain": [
       "<Figure size 432x288 with 1 Axes>"
      ]
     },
     "metadata": {
      "needs_background": "light"
     },
     "output_type": "display_data"
    }
   ],
   "source": [
    "legend = ['hybrid', 'Thompson', 'UCB', 'softmax', 'sc2']\n",
    "# legend = ['']\n",
    "plt_steps = np.arange(0, N_steps)\n",
    "for i, j in enumerate(A_max_tot_multiple):\n",
    "    data = 100 * j / N_experiments\n",
    "    plt.plot(plt_steps, data, label=legend[i])\n",
    "plt.xlabel(\"Steps\")\n",
    "plt.ylabel(\"% Optimal action\")\n",
    "plt.legend()\n",
    "plt.show()"
   ]
  },
  {
   "cell_type": "code",
   "execution_count": 38,
   "metadata": {},
   "outputs": [
    {
     "data": {
      "image/png": "[encoded data removed]",
      "text/plain": [
       "<Figure size 432x288 with 1 Axes>"
      ]
     },
     "metadata": {
      "needs_background": "light"
     },
     "output_type": "display_data"
    }
   ],
   "source": [
    "data = 100 * A[:, 0] / N_experiments\n",
    "window = 2\n",
    "average_data = []\n",
    "steps = list(np.array(range(len(A)))+1)\n",
    "for ind in range(len(data) - window + 1):\n",
    "    average_data.append(np.mean(data[ind:ind+window]))\n",
    "plt_steps = np.arange(window - 1, len(steps))\n",
    "plt.plot(steps, data, label=\"Arm {} ({:.0f}%)\".format(1, arm_mean[0]))\n",
    "plt.xlabel(\"Step\")\n",
    "plt.ylabel(\"Count Percentage (%)\")\n",
    "plt.xlim([1, N_steps])\n",
    "plt.ylim([0, 100])\n",
    "leg = plt.legend(loc='upper left', shadow=True)\n",
    "plt.legend()\n",
    "for legobj in leg.legendHandles:\n",
    "    legobj.set_linewidth(4.0)\n",
    "plt.show()"
   ]
  },
  {
   "cell_type": "code",
   "execution_count": 7,
   "metadata": {},
   "outputs": [
    {
     "name": "stdout",
     "output_type": "stream",
     "text": [
      "[2.212902] [2.1283978] [1.8417114] [0.85896368]\n"
     ]
    }
   ],
   "source": [
    "prng = np.random.RandomState(123456789)\n",
    "a = prng.normal(0, 1, 1)\n",
    "b = prng.normal(0, 1, 1)\n",
    "c = prng.normal(0, 1, 1)\n",
    "c2 = prng.normal(0, 1, 1)\n",
    "d = prng.normal(0, 1, 1)\n",
    "print(a, b, c, d)"
   ]
  },
  {
   "cell_type": "code",
   "execution_count": 8,
   "metadata": {},
   "outputs": [
    {
     "name": "stdout",
     "output_type": "stream",
     "text": [
      "[2.212902  2.1283978] [1.8417114] [0.08238248] [0.85896368]\n"
     ]
    }
   ],
   "source": [
    "prng = np.random.RandomState(123456789)\n",
    "a = prng.normal(0, 1, 2)\n",
    "b = prng.normal(0, 1, 1)\n",
    "c = prng.normal(0, 1, 1)\n",
    "d = prng.normal(0, 1, 1)\n",
    "print(a, b, c, d)"
   ]
  },
  {
   "cell_type": "code",
   "execution_count": 26,
   "metadata": {},
   "outputs": [
    {
     "name": "stdout",
     "output_type": "stream",
     "text": [
      "[5]\n"
     ]
    },
    {
     "data": {
      "text/plain": [
       "10"
      ]
     },
     "execution_count": 26,
     "metadata": {},
     "output_type": "execute_result"
    }
   ],
   "source": [
    "a = [1, 2, 3, 4, 5, 10, 7, 8, 9, 0]\n",
    "a_max = np.max(a)\n",
    "max_ind = np.where(a == a_max)\n",
    "print(max_ind[0])\n",
    "a[int(max_ind[0])]"
   ]
  },
  {
   "cell_type": "code",
   "execution_count": 35,
   "metadata": {},
   "outputs": [
    {
     "name": "stdout",
     "output_type": "stream",
     "text": [
      "[[1, 2, 3], [3, 4, 5]]\n"
     ]
    }
   ],
   "source": [
    "a = []\n",
    "b = [1,2,3]\n",
    "c = [3,4,5]\n",
    "a.append(b)\n",
    "a.append(c)\n",
    "print(a)"
   ]
  }
 ],
 "metadata": {
  "kernelspec": {
   "display_name": "Python 3.8.5 ('base')",
   "language": "python",
   "name": "python3"
  },
  "language_info": {
   "codemirror_mode": {
    "name": "ipython",
    "version": 3
   },
   "file_extension": ".py",
   "mimetype": "text/x-python",
   "name": "python",
   "nbconvert_exporter": "python",
   "pygments_lexer": "ipython3",
   "version": "3.8.5"
  },
  "orig_nbformat": 4,
  "vscode": {
   "interpreter": {
    "hash": "32069270ac4b86499d291c54bd6008f4be6d07d437546a0bb345ac201d0d6f03"
   }
  }
 },
 "nbformat": 4,
 "nbformat_minor": 2
}
